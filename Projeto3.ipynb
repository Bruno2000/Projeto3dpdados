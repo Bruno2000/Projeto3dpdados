{
 "cells": [
  {
   "cell_type": "markdown",
   "metadata": {},
   "source": [
    "___\n",
    "## Ciência dos Dados - PROJETO 3 - INSPER"
   ]
  },
  {
   "cell_type": "markdown",
   "metadata": {},
   "source": [
    "___\n",
    "#### Bruno Morales Balkins\n",
    "\n",
    "#### Daniel do Carmo Granja de Castro\n",
    "\n",
    "#### Omar Dibo Calixto Afrange Neto\n",
    "___"
   ]
  },
  {
   "cell_type": "markdown",
   "metadata": {},
   "source": [
    "# Qual a chance de um estudante entrar em uma faculdade baseado em diversos parametros relacionados a notas em exames e qualidade da faculdade."
   ]
  },
  {
   "cell_type": "markdown",
   "metadata": {},
   "source": [
    "___\n",
    "\n",
    "## A. INTRODUÇÃO"
   ]
  },
  {
   "cell_type": "markdown",
   "metadata": {},
   "source": [
    "Nesse trabalho iremos abordar 4 formas distintas de prever a chance de um aluno americano qualquer entrar em uma faculdade americana qualquer. Para isso utilizaremos uma base de dados que contem informações sobre alguns candidatos de universidades variadas. As variáveis incluem notas em alguns testes, experiência com pesquisa, carta de recomendação e outros quesitos necessários, além disso ela traz a probabilidade dele ser aceito na universidade desejada. O intuito principal deste projeto é prever a probabilidade do aluno conseguir passar na universidade e alem disso entender qual das formas de predicao e melhor e porque."
   ]
  },
  {
   "cell_type": "markdown",
   "metadata": {},
   "source": [
    "___\n",
    "## B. MINERANDO DADOS e CARACTERÍSTICAS DO DATASET"
   ]
  },
  {
   "cell_type": "markdown",
   "metadata": {},
   "source": [
    "[Detalhe aqui as características da base de dados além da análise descritiva.]"
   ]
  },
  {
   "cell_type": "code",
   "execution_count": 425,
   "metadata": {},
   "outputs": [],
   "source": [
    "import pandas as pd\n",
    "import os\n",
    "import matplotlib.pyplot as plt\n",
    "import matplotlib\n",
    "import numpy as np\n",
    "from sklearn.model_selection import train_test_split\n",
    "import statsmodels.api as sm\n",
    "from sklearn.neighbors import KNeighborsRegressor\n",
    "from sklearn.metrics import mean_squared_error\n",
    "from sklearn import tree\n",
    "from sklearn.tree import DecisionTreeRegressor"
   ]
  },
  {
   "cell_type": "markdown",
   "metadata": {},
   "source": [
    "### BASE DE DADOS"
   ]
  },
  {
   "cell_type": "code",
   "execution_count": 427,
   "metadata": {
    "scrolled": true
   },
   "outputs": [
    {
     "data": {
      "text/html": [
       "<div>\n",
       "<style scoped>\n",
       "    .dataframe tbody tr th:only-of-type {\n",
       "        vertical-align: middle;\n",
       "    }\n",
       "\n",
       "    .dataframe tbody tr th {\n",
       "        vertical-align: top;\n",
       "    }\n",
       "\n",
       "    .dataframe thead th {\n",
       "        text-align: right;\n",
       "    }\n",
       "</style>\n",
       "<table border=\"1\" class=\"dataframe\">\n",
       "  <thead>\n",
       "    <tr style=\"text-align: right;\">\n",
       "      <th></th>\n",
       "      <th>Serial No.</th>\n",
       "      <th>GRE Score</th>\n",
       "      <th>TOEFL Score</th>\n",
       "      <th>University Rating</th>\n",
       "      <th>SOP</th>\n",
       "      <th>LOR</th>\n",
       "      <th>CGPA</th>\n",
       "      <th>Research</th>\n",
       "      <th>Chance of Admit</th>\n",
       "    </tr>\n",
       "  </thead>\n",
       "  <tbody>\n",
       "    <tr>\n",
       "      <th>0</th>\n",
       "      <td>1</td>\n",
       "      <td>337</td>\n",
       "      <td>118</td>\n",
       "      <td>4</td>\n",
       "      <td>4.5</td>\n",
       "      <td>4.5</td>\n",
       "      <td>9.65</td>\n",
       "      <td>1</td>\n",
       "      <td>0.92</td>\n",
       "    </tr>\n",
       "    <tr>\n",
       "      <th>1</th>\n",
       "      <td>2</td>\n",
       "      <td>324</td>\n",
       "      <td>107</td>\n",
       "      <td>4</td>\n",
       "      <td>4.0</td>\n",
       "      <td>4.5</td>\n",
       "      <td>8.87</td>\n",
       "      <td>1</td>\n",
       "      <td>0.76</td>\n",
       "    </tr>\n",
       "    <tr>\n",
       "      <th>2</th>\n",
       "      <td>3</td>\n",
       "      <td>316</td>\n",
       "      <td>104</td>\n",
       "      <td>3</td>\n",
       "      <td>3.0</td>\n",
       "      <td>3.5</td>\n",
       "      <td>8.00</td>\n",
       "      <td>1</td>\n",
       "      <td>0.72</td>\n",
       "    </tr>\n",
       "    <tr>\n",
       "      <th>3</th>\n",
       "      <td>4</td>\n",
       "      <td>322</td>\n",
       "      <td>110</td>\n",
       "      <td>3</td>\n",
       "      <td>3.5</td>\n",
       "      <td>2.5</td>\n",
       "      <td>8.67</td>\n",
       "      <td>1</td>\n",
       "      <td>0.80</td>\n",
       "    </tr>\n",
       "    <tr>\n",
       "      <th>4</th>\n",
       "      <td>5</td>\n",
       "      <td>314</td>\n",
       "      <td>103</td>\n",
       "      <td>2</td>\n",
       "      <td>2.0</td>\n",
       "      <td>3.0</td>\n",
       "      <td>8.21</td>\n",
       "      <td>0</td>\n",
       "      <td>0.65</td>\n",
       "    </tr>\n",
       "    <tr>\n",
       "      <th>5</th>\n",
       "      <td>6</td>\n",
       "      <td>330</td>\n",
       "      <td>115</td>\n",
       "      <td>5</td>\n",
       "      <td>4.5</td>\n",
       "      <td>3.0</td>\n",
       "      <td>9.34</td>\n",
       "      <td>1</td>\n",
       "      <td>0.90</td>\n",
       "    </tr>\n",
       "    <tr>\n",
       "      <th>6</th>\n",
       "      <td>7</td>\n",
       "      <td>321</td>\n",
       "      <td>109</td>\n",
       "      <td>3</td>\n",
       "      <td>3.0</td>\n",
       "      <td>4.0</td>\n",
       "      <td>8.20</td>\n",
       "      <td>1</td>\n",
       "      <td>0.75</td>\n",
       "    </tr>\n",
       "    <tr>\n",
       "      <th>7</th>\n",
       "      <td>8</td>\n",
       "      <td>308</td>\n",
       "      <td>101</td>\n",
       "      <td>2</td>\n",
       "      <td>3.0</td>\n",
       "      <td>4.0</td>\n",
       "      <td>7.90</td>\n",
       "      <td>0</td>\n",
       "      <td>0.68</td>\n",
       "    </tr>\n",
       "    <tr>\n",
       "      <th>8</th>\n",
       "      <td>9</td>\n",
       "      <td>302</td>\n",
       "      <td>102</td>\n",
       "      <td>1</td>\n",
       "      <td>2.0</td>\n",
       "      <td>1.5</td>\n",
       "      <td>8.00</td>\n",
       "      <td>0</td>\n",
       "      <td>0.50</td>\n",
       "    </tr>\n",
       "    <tr>\n",
       "      <th>9</th>\n",
       "      <td>10</td>\n",
       "      <td>323</td>\n",
       "      <td>108</td>\n",
       "      <td>3</td>\n",
       "      <td>3.5</td>\n",
       "      <td>3.0</td>\n",
       "      <td>8.60</td>\n",
       "      <td>0</td>\n",
       "      <td>0.45</td>\n",
       "    </tr>\n",
       "    <tr>\n",
       "      <th>10</th>\n",
       "      <td>11</td>\n",
       "      <td>325</td>\n",
       "      <td>106</td>\n",
       "      <td>3</td>\n",
       "      <td>3.5</td>\n",
       "      <td>4.0</td>\n",
       "      <td>8.40</td>\n",
       "      <td>1</td>\n",
       "      <td>0.52</td>\n",
       "    </tr>\n",
       "    <tr>\n",
       "      <th>11</th>\n",
       "      <td>12</td>\n",
       "      <td>327</td>\n",
       "      <td>111</td>\n",
       "      <td>4</td>\n",
       "      <td>4.0</td>\n",
       "      <td>4.5</td>\n",
       "      <td>9.00</td>\n",
       "      <td>1</td>\n",
       "      <td>0.84</td>\n",
       "    </tr>\n",
       "    <tr>\n",
       "      <th>12</th>\n",
       "      <td>13</td>\n",
       "      <td>328</td>\n",
       "      <td>112</td>\n",
       "      <td>4</td>\n",
       "      <td>4.0</td>\n",
       "      <td>4.5</td>\n",
       "      <td>9.10</td>\n",
       "      <td>1</td>\n",
       "      <td>0.78</td>\n",
       "    </tr>\n",
       "    <tr>\n",
       "      <th>13</th>\n",
       "      <td>14</td>\n",
       "      <td>307</td>\n",
       "      <td>109</td>\n",
       "      <td>3</td>\n",
       "      <td>4.0</td>\n",
       "      <td>3.0</td>\n",
       "      <td>8.00</td>\n",
       "      <td>1</td>\n",
       "      <td>0.62</td>\n",
       "    </tr>\n",
       "    <tr>\n",
       "      <th>14</th>\n",
       "      <td>15</td>\n",
       "      <td>311</td>\n",
       "      <td>104</td>\n",
       "      <td>3</td>\n",
       "      <td>3.5</td>\n",
       "      <td>2.0</td>\n",
       "      <td>8.20</td>\n",
       "      <td>1</td>\n",
       "      <td>0.61</td>\n",
       "    </tr>\n",
       "    <tr>\n",
       "      <th>15</th>\n",
       "      <td>16</td>\n",
       "      <td>314</td>\n",
       "      <td>105</td>\n",
       "      <td>3</td>\n",
       "      <td>3.5</td>\n",
       "      <td>2.5</td>\n",
       "      <td>8.30</td>\n",
       "      <td>0</td>\n",
       "      <td>0.54</td>\n",
       "    </tr>\n",
       "    <tr>\n",
       "      <th>16</th>\n",
       "      <td>17</td>\n",
       "      <td>317</td>\n",
       "      <td>107</td>\n",
       "      <td>3</td>\n",
       "      <td>4.0</td>\n",
       "      <td>3.0</td>\n",
       "      <td>8.70</td>\n",
       "      <td>0</td>\n",
       "      <td>0.66</td>\n",
       "    </tr>\n",
       "    <tr>\n",
       "      <th>17</th>\n",
       "      <td>18</td>\n",
       "      <td>319</td>\n",
       "      <td>106</td>\n",
       "      <td>3</td>\n",
       "      <td>4.0</td>\n",
       "      <td>3.0</td>\n",
       "      <td>8.00</td>\n",
       "      <td>1</td>\n",
       "      <td>0.65</td>\n",
       "    </tr>\n",
       "    <tr>\n",
       "      <th>18</th>\n",
       "      <td>19</td>\n",
       "      <td>318</td>\n",
       "      <td>110</td>\n",
       "      <td>3</td>\n",
       "      <td>4.0</td>\n",
       "      <td>3.0</td>\n",
       "      <td>8.80</td>\n",
       "      <td>0</td>\n",
       "      <td>0.63</td>\n",
       "    </tr>\n",
       "    <tr>\n",
       "      <th>19</th>\n",
       "      <td>20</td>\n",
       "      <td>303</td>\n",
       "      <td>102</td>\n",
       "      <td>3</td>\n",
       "      <td>3.5</td>\n",
       "      <td>3.0</td>\n",
       "      <td>8.50</td>\n",
       "      <td>0</td>\n",
       "      <td>0.62</td>\n",
       "    </tr>\n",
       "    <tr>\n",
       "      <th>20</th>\n",
       "      <td>21</td>\n",
       "      <td>312</td>\n",
       "      <td>107</td>\n",
       "      <td>3</td>\n",
       "      <td>3.0</td>\n",
       "      <td>2.0</td>\n",
       "      <td>7.90</td>\n",
       "      <td>1</td>\n",
       "      <td>0.64</td>\n",
       "    </tr>\n",
       "    <tr>\n",
       "      <th>21</th>\n",
       "      <td>22</td>\n",
       "      <td>325</td>\n",
       "      <td>114</td>\n",
       "      <td>4</td>\n",
       "      <td>3.0</td>\n",
       "      <td>2.0</td>\n",
       "      <td>8.40</td>\n",
       "      <td>0</td>\n",
       "      <td>0.70</td>\n",
       "    </tr>\n",
       "    <tr>\n",
       "      <th>22</th>\n",
       "      <td>23</td>\n",
       "      <td>328</td>\n",
       "      <td>116</td>\n",
       "      <td>5</td>\n",
       "      <td>5.0</td>\n",
       "      <td>5.0</td>\n",
       "      <td>9.50</td>\n",
       "      <td>1</td>\n",
       "      <td>0.94</td>\n",
       "    </tr>\n",
       "    <tr>\n",
       "      <th>23</th>\n",
       "      <td>24</td>\n",
       "      <td>334</td>\n",
       "      <td>119</td>\n",
       "      <td>5</td>\n",
       "      <td>5.0</td>\n",
       "      <td>4.5</td>\n",
       "      <td>9.70</td>\n",
       "      <td>1</td>\n",
       "      <td>0.95</td>\n",
       "    </tr>\n",
       "    <tr>\n",
       "      <th>24</th>\n",
       "      <td>25</td>\n",
       "      <td>336</td>\n",
       "      <td>119</td>\n",
       "      <td>5</td>\n",
       "      <td>4.0</td>\n",
       "      <td>3.5</td>\n",
       "      <td>9.80</td>\n",
       "      <td>1</td>\n",
       "      <td>0.97</td>\n",
       "    </tr>\n",
       "    <tr>\n",
       "      <th>25</th>\n",
       "      <td>26</td>\n",
       "      <td>340</td>\n",
       "      <td>120</td>\n",
       "      <td>5</td>\n",
       "      <td>4.5</td>\n",
       "      <td>4.5</td>\n",
       "      <td>9.60</td>\n",
       "      <td>1</td>\n",
       "      <td>0.94</td>\n",
       "    </tr>\n",
       "    <tr>\n",
       "      <th>26</th>\n",
       "      <td>27</td>\n",
       "      <td>322</td>\n",
       "      <td>109</td>\n",
       "      <td>5</td>\n",
       "      <td>4.5</td>\n",
       "      <td>3.5</td>\n",
       "      <td>8.80</td>\n",
       "      <td>0</td>\n",
       "      <td>0.76</td>\n",
       "    </tr>\n",
       "    <tr>\n",
       "      <th>27</th>\n",
       "      <td>28</td>\n",
       "      <td>298</td>\n",
       "      <td>98</td>\n",
       "      <td>2</td>\n",
       "      <td>1.5</td>\n",
       "      <td>2.5</td>\n",
       "      <td>7.50</td>\n",
       "      <td>1</td>\n",
       "      <td>0.44</td>\n",
       "    </tr>\n",
       "    <tr>\n",
       "      <th>28</th>\n",
       "      <td>29</td>\n",
       "      <td>295</td>\n",
       "      <td>93</td>\n",
       "      <td>1</td>\n",
       "      <td>2.0</td>\n",
       "      <td>2.0</td>\n",
       "      <td>7.20</td>\n",
       "      <td>0</td>\n",
       "      <td>0.46</td>\n",
       "    </tr>\n",
       "    <tr>\n",
       "      <th>29</th>\n",
       "      <td>30</td>\n",
       "      <td>310</td>\n",
       "      <td>99</td>\n",
       "      <td>2</td>\n",
       "      <td>1.5</td>\n",
       "      <td>2.0</td>\n",
       "      <td>7.30</td>\n",
       "      <td>0</td>\n",
       "      <td>0.54</td>\n",
       "    </tr>\n",
       "    <tr>\n",
       "      <th>...</th>\n",
       "      <td>...</td>\n",
       "      <td>...</td>\n",
       "      <td>...</td>\n",
       "      <td>...</td>\n",
       "      <td>...</td>\n",
       "      <td>...</td>\n",
       "      <td>...</td>\n",
       "      <td>...</td>\n",
       "      <td>...</td>\n",
       "    </tr>\n",
       "    <tr>\n",
       "      <th>370</th>\n",
       "      <td>371</td>\n",
       "      <td>310</td>\n",
       "      <td>103</td>\n",
       "      <td>2</td>\n",
       "      <td>2.5</td>\n",
       "      <td>2.5</td>\n",
       "      <td>8.24</td>\n",
       "      <td>0</td>\n",
       "      <td>0.72</td>\n",
       "    </tr>\n",
       "    <tr>\n",
       "      <th>371</th>\n",
       "      <td>372</td>\n",
       "      <td>324</td>\n",
       "      <td>110</td>\n",
       "      <td>3</td>\n",
       "      <td>3.5</td>\n",
       "      <td>3.0</td>\n",
       "      <td>9.22</td>\n",
       "      <td>1</td>\n",
       "      <td>0.89</td>\n",
       "    </tr>\n",
       "    <tr>\n",
       "      <th>372</th>\n",
       "      <td>373</td>\n",
       "      <td>336</td>\n",
       "      <td>119</td>\n",
       "      <td>4</td>\n",
       "      <td>4.5</td>\n",
       "      <td>4.0</td>\n",
       "      <td>9.62</td>\n",
       "      <td>1</td>\n",
       "      <td>0.95</td>\n",
       "    </tr>\n",
       "    <tr>\n",
       "      <th>373</th>\n",
       "      <td>374</td>\n",
       "      <td>321</td>\n",
       "      <td>109</td>\n",
       "      <td>3</td>\n",
       "      <td>3.0</td>\n",
       "      <td>3.0</td>\n",
       "      <td>8.54</td>\n",
       "      <td>1</td>\n",
       "      <td>0.79</td>\n",
       "    </tr>\n",
       "    <tr>\n",
       "      <th>374</th>\n",
       "      <td>375</td>\n",
       "      <td>315</td>\n",
       "      <td>105</td>\n",
       "      <td>2</td>\n",
       "      <td>2.0</td>\n",
       "      <td>2.5</td>\n",
       "      <td>7.65</td>\n",
       "      <td>0</td>\n",
       "      <td>0.39</td>\n",
       "    </tr>\n",
       "    <tr>\n",
       "      <th>375</th>\n",
       "      <td>376</td>\n",
       "      <td>304</td>\n",
       "      <td>101</td>\n",
       "      <td>2</td>\n",
       "      <td>2.0</td>\n",
       "      <td>2.5</td>\n",
       "      <td>7.66</td>\n",
       "      <td>0</td>\n",
       "      <td>0.38</td>\n",
       "    </tr>\n",
       "    <tr>\n",
       "      <th>376</th>\n",
       "      <td>377</td>\n",
       "      <td>297</td>\n",
       "      <td>96</td>\n",
       "      <td>2</td>\n",
       "      <td>2.5</td>\n",
       "      <td>2.0</td>\n",
       "      <td>7.43</td>\n",
       "      <td>0</td>\n",
       "      <td>0.34</td>\n",
       "    </tr>\n",
       "    <tr>\n",
       "      <th>377</th>\n",
       "      <td>378</td>\n",
       "      <td>290</td>\n",
       "      <td>100</td>\n",
       "      <td>1</td>\n",
       "      <td>1.5</td>\n",
       "      <td>2.0</td>\n",
       "      <td>7.56</td>\n",
       "      <td>0</td>\n",
       "      <td>0.47</td>\n",
       "    </tr>\n",
       "    <tr>\n",
       "      <th>378</th>\n",
       "      <td>379</td>\n",
       "      <td>303</td>\n",
       "      <td>98</td>\n",
       "      <td>1</td>\n",
       "      <td>2.0</td>\n",
       "      <td>2.5</td>\n",
       "      <td>7.65</td>\n",
       "      <td>0</td>\n",
       "      <td>0.56</td>\n",
       "    </tr>\n",
       "    <tr>\n",
       "      <th>379</th>\n",
       "      <td>380</td>\n",
       "      <td>311</td>\n",
       "      <td>99</td>\n",
       "      <td>1</td>\n",
       "      <td>2.5</td>\n",
       "      <td>3.0</td>\n",
       "      <td>8.43</td>\n",
       "      <td>1</td>\n",
       "      <td>0.71</td>\n",
       "    </tr>\n",
       "    <tr>\n",
       "      <th>380</th>\n",
       "      <td>381</td>\n",
       "      <td>322</td>\n",
       "      <td>104</td>\n",
       "      <td>3</td>\n",
       "      <td>3.5</td>\n",
       "      <td>4.0</td>\n",
       "      <td>8.84</td>\n",
       "      <td>1</td>\n",
       "      <td>0.78</td>\n",
       "    </tr>\n",
       "    <tr>\n",
       "      <th>381</th>\n",
       "      <td>382</td>\n",
       "      <td>319</td>\n",
       "      <td>105</td>\n",
       "      <td>3</td>\n",
       "      <td>3.0</td>\n",
       "      <td>3.5</td>\n",
       "      <td>8.67</td>\n",
       "      <td>1</td>\n",
       "      <td>0.73</td>\n",
       "    </tr>\n",
       "    <tr>\n",
       "      <th>382</th>\n",
       "      <td>383</td>\n",
       "      <td>324</td>\n",
       "      <td>110</td>\n",
       "      <td>4</td>\n",
       "      <td>4.5</td>\n",
       "      <td>4.0</td>\n",
       "      <td>9.15</td>\n",
       "      <td>1</td>\n",
       "      <td>0.82</td>\n",
       "    </tr>\n",
       "    <tr>\n",
       "      <th>383</th>\n",
       "      <td>384</td>\n",
       "      <td>300</td>\n",
       "      <td>100</td>\n",
       "      <td>3</td>\n",
       "      <td>3.0</td>\n",
       "      <td>3.5</td>\n",
       "      <td>8.26</td>\n",
       "      <td>0</td>\n",
       "      <td>0.62</td>\n",
       "    </tr>\n",
       "    <tr>\n",
       "      <th>384</th>\n",
       "      <td>385</td>\n",
       "      <td>340</td>\n",
       "      <td>113</td>\n",
       "      <td>4</td>\n",
       "      <td>5.0</td>\n",
       "      <td>5.0</td>\n",
       "      <td>9.74</td>\n",
       "      <td>1</td>\n",
       "      <td>0.96</td>\n",
       "    </tr>\n",
       "    <tr>\n",
       "      <th>385</th>\n",
       "      <td>386</td>\n",
       "      <td>335</td>\n",
       "      <td>117</td>\n",
       "      <td>5</td>\n",
       "      <td>5.0</td>\n",
       "      <td>5.0</td>\n",
       "      <td>9.82</td>\n",
       "      <td>1</td>\n",
       "      <td>0.96</td>\n",
       "    </tr>\n",
       "    <tr>\n",
       "      <th>386</th>\n",
       "      <td>387</td>\n",
       "      <td>302</td>\n",
       "      <td>101</td>\n",
       "      <td>2</td>\n",
       "      <td>2.5</td>\n",
       "      <td>3.5</td>\n",
       "      <td>7.96</td>\n",
       "      <td>0</td>\n",
       "      <td>0.46</td>\n",
       "    </tr>\n",
       "    <tr>\n",
       "      <th>387</th>\n",
       "      <td>388</td>\n",
       "      <td>307</td>\n",
       "      <td>105</td>\n",
       "      <td>2</td>\n",
       "      <td>2.0</td>\n",
       "      <td>3.5</td>\n",
       "      <td>8.10</td>\n",
       "      <td>0</td>\n",
       "      <td>0.53</td>\n",
       "    </tr>\n",
       "    <tr>\n",
       "      <th>388</th>\n",
       "      <td>389</td>\n",
       "      <td>296</td>\n",
       "      <td>97</td>\n",
       "      <td>2</td>\n",
       "      <td>1.5</td>\n",
       "      <td>2.0</td>\n",
       "      <td>7.80</td>\n",
       "      <td>0</td>\n",
       "      <td>0.49</td>\n",
       "    </tr>\n",
       "    <tr>\n",
       "      <th>389</th>\n",
       "      <td>390</td>\n",
       "      <td>320</td>\n",
       "      <td>108</td>\n",
       "      <td>3</td>\n",
       "      <td>3.5</td>\n",
       "      <td>4.0</td>\n",
       "      <td>8.44</td>\n",
       "      <td>1</td>\n",
       "      <td>0.76</td>\n",
       "    </tr>\n",
       "    <tr>\n",
       "      <th>390</th>\n",
       "      <td>391</td>\n",
       "      <td>314</td>\n",
       "      <td>102</td>\n",
       "      <td>2</td>\n",
       "      <td>2.0</td>\n",
       "      <td>2.5</td>\n",
       "      <td>8.24</td>\n",
       "      <td>0</td>\n",
       "      <td>0.64</td>\n",
       "    </tr>\n",
       "    <tr>\n",
       "      <th>391</th>\n",
       "      <td>392</td>\n",
       "      <td>318</td>\n",
       "      <td>106</td>\n",
       "      <td>3</td>\n",
       "      <td>2.0</td>\n",
       "      <td>3.0</td>\n",
       "      <td>8.65</td>\n",
       "      <td>0</td>\n",
       "      <td>0.71</td>\n",
       "    </tr>\n",
       "    <tr>\n",
       "      <th>392</th>\n",
       "      <td>393</td>\n",
       "      <td>326</td>\n",
       "      <td>112</td>\n",
       "      <td>4</td>\n",
       "      <td>4.0</td>\n",
       "      <td>3.5</td>\n",
       "      <td>9.12</td>\n",
       "      <td>1</td>\n",
       "      <td>0.84</td>\n",
       "    </tr>\n",
       "    <tr>\n",
       "      <th>393</th>\n",
       "      <td>394</td>\n",
       "      <td>317</td>\n",
       "      <td>104</td>\n",
       "      <td>2</td>\n",
       "      <td>3.0</td>\n",
       "      <td>3.0</td>\n",
       "      <td>8.76</td>\n",
       "      <td>0</td>\n",
       "      <td>0.77</td>\n",
       "    </tr>\n",
       "    <tr>\n",
       "      <th>394</th>\n",
       "      <td>395</td>\n",
       "      <td>329</td>\n",
       "      <td>111</td>\n",
       "      <td>4</td>\n",
       "      <td>4.5</td>\n",
       "      <td>4.0</td>\n",
       "      <td>9.23</td>\n",
       "      <td>1</td>\n",
       "      <td>0.89</td>\n",
       "    </tr>\n",
       "    <tr>\n",
       "      <th>395</th>\n",
       "      <td>396</td>\n",
       "      <td>324</td>\n",
       "      <td>110</td>\n",
       "      <td>3</td>\n",
       "      <td>3.5</td>\n",
       "      <td>3.5</td>\n",
       "      <td>9.04</td>\n",
       "      <td>1</td>\n",
       "      <td>0.82</td>\n",
       "    </tr>\n",
       "    <tr>\n",
       "      <th>396</th>\n",
       "      <td>397</td>\n",
       "      <td>325</td>\n",
       "      <td>107</td>\n",
       "      <td>3</td>\n",
       "      <td>3.0</td>\n",
       "      <td>3.5</td>\n",
       "      <td>9.11</td>\n",
       "      <td>1</td>\n",
       "      <td>0.84</td>\n",
       "    </tr>\n",
       "    <tr>\n",
       "      <th>397</th>\n",
       "      <td>398</td>\n",
       "      <td>330</td>\n",
       "      <td>116</td>\n",
       "      <td>4</td>\n",
       "      <td>5.0</td>\n",
       "      <td>4.5</td>\n",
       "      <td>9.45</td>\n",
       "      <td>1</td>\n",
       "      <td>0.91</td>\n",
       "    </tr>\n",
       "    <tr>\n",
       "      <th>398</th>\n",
       "      <td>399</td>\n",
       "      <td>312</td>\n",
       "      <td>103</td>\n",
       "      <td>3</td>\n",
       "      <td>3.5</td>\n",
       "      <td>4.0</td>\n",
       "      <td>8.78</td>\n",
       "      <td>0</td>\n",
       "      <td>0.67</td>\n",
       "    </tr>\n",
       "    <tr>\n",
       "      <th>399</th>\n",
       "      <td>400</td>\n",
       "      <td>333</td>\n",
       "      <td>117</td>\n",
       "      <td>4</td>\n",
       "      <td>5.0</td>\n",
       "      <td>4.0</td>\n",
       "      <td>9.66</td>\n",
       "      <td>1</td>\n",
       "      <td>0.95</td>\n",
       "    </tr>\n",
       "  </tbody>\n",
       "</table>\n",
       "<p>400 rows × 9 columns</p>\n",
       "</div>"
      ],
      "text/plain": [
       "     Serial No.  GRE Score  TOEFL Score  University Rating  SOP  LOR   CGPA  \\\n",
       "0             1        337          118                  4  4.5   4.5  9.65   \n",
       "1             2        324          107                  4  4.0   4.5  8.87   \n",
       "2             3        316          104                  3  3.0   3.5  8.00   \n",
       "3             4        322          110                  3  3.5   2.5  8.67   \n",
       "4             5        314          103                  2  2.0   3.0  8.21   \n",
       "5             6        330          115                  5  4.5   3.0  9.34   \n",
       "6             7        321          109                  3  3.0   4.0  8.20   \n",
       "7             8        308          101                  2  3.0   4.0  7.90   \n",
       "8             9        302          102                  1  2.0   1.5  8.00   \n",
       "9            10        323          108                  3  3.5   3.0  8.60   \n",
       "10           11        325          106                  3  3.5   4.0  8.40   \n",
       "11           12        327          111                  4  4.0   4.5  9.00   \n",
       "12           13        328          112                  4  4.0   4.5  9.10   \n",
       "13           14        307          109                  3  4.0   3.0  8.00   \n",
       "14           15        311          104                  3  3.5   2.0  8.20   \n",
       "15           16        314          105                  3  3.5   2.5  8.30   \n",
       "16           17        317          107                  3  4.0   3.0  8.70   \n",
       "17           18        319          106                  3  4.0   3.0  8.00   \n",
       "18           19        318          110                  3  4.0   3.0  8.80   \n",
       "19           20        303          102                  3  3.5   3.0  8.50   \n",
       "20           21        312          107                  3  3.0   2.0  7.90   \n",
       "21           22        325          114                  4  3.0   2.0  8.40   \n",
       "22           23        328          116                  5  5.0   5.0  9.50   \n",
       "23           24        334          119                  5  5.0   4.5  9.70   \n",
       "24           25        336          119                  5  4.0   3.5  9.80   \n",
       "25           26        340          120                  5  4.5   4.5  9.60   \n",
       "26           27        322          109                  5  4.5   3.5  8.80   \n",
       "27           28        298           98                  2  1.5   2.5  7.50   \n",
       "28           29        295           93                  1  2.0   2.0  7.20   \n",
       "29           30        310           99                  2  1.5   2.0  7.30   \n",
       "..          ...        ...          ...                ...  ...   ...   ...   \n",
       "370         371        310          103                  2  2.5   2.5  8.24   \n",
       "371         372        324          110                  3  3.5   3.0  9.22   \n",
       "372         373        336          119                  4  4.5   4.0  9.62   \n",
       "373         374        321          109                  3  3.0   3.0  8.54   \n",
       "374         375        315          105                  2  2.0   2.5  7.65   \n",
       "375         376        304          101                  2  2.0   2.5  7.66   \n",
       "376         377        297           96                  2  2.5   2.0  7.43   \n",
       "377         378        290          100                  1  1.5   2.0  7.56   \n",
       "378         379        303           98                  1  2.0   2.5  7.65   \n",
       "379         380        311           99                  1  2.5   3.0  8.43   \n",
       "380         381        322          104                  3  3.5   4.0  8.84   \n",
       "381         382        319          105                  3  3.0   3.5  8.67   \n",
       "382         383        324          110                  4  4.5   4.0  9.15   \n",
       "383         384        300          100                  3  3.0   3.5  8.26   \n",
       "384         385        340          113                  4  5.0   5.0  9.74   \n",
       "385         386        335          117                  5  5.0   5.0  9.82   \n",
       "386         387        302          101                  2  2.5   3.5  7.96   \n",
       "387         388        307          105                  2  2.0   3.5  8.10   \n",
       "388         389        296           97                  2  1.5   2.0  7.80   \n",
       "389         390        320          108                  3  3.5   4.0  8.44   \n",
       "390         391        314          102                  2  2.0   2.5  8.24   \n",
       "391         392        318          106                  3  2.0   3.0  8.65   \n",
       "392         393        326          112                  4  4.0   3.5  9.12   \n",
       "393         394        317          104                  2  3.0   3.0  8.76   \n",
       "394         395        329          111                  4  4.5   4.0  9.23   \n",
       "395         396        324          110                  3  3.5   3.5  9.04   \n",
       "396         397        325          107                  3  3.0   3.5  9.11   \n",
       "397         398        330          116                  4  5.0   4.5  9.45   \n",
       "398         399        312          103                  3  3.5   4.0  8.78   \n",
       "399         400        333          117                  4  5.0   4.0  9.66   \n",
       "\n",
       "     Research  Chance of Admit   \n",
       "0           1              0.92  \n",
       "1           1              0.76  \n",
       "2           1              0.72  \n",
       "3           1              0.80  \n",
       "4           0              0.65  \n",
       "5           1              0.90  \n",
       "6           1              0.75  \n",
       "7           0              0.68  \n",
       "8           0              0.50  \n",
       "9           0              0.45  \n",
       "10          1              0.52  \n",
       "11          1              0.84  \n",
       "12          1              0.78  \n",
       "13          1              0.62  \n",
       "14          1              0.61  \n",
       "15          0              0.54  \n",
       "16          0              0.66  \n",
       "17          1              0.65  \n",
       "18          0              0.63  \n",
       "19          0              0.62  \n",
       "20          1              0.64  \n",
       "21          0              0.70  \n",
       "22          1              0.94  \n",
       "23          1              0.95  \n",
       "24          1              0.97  \n",
       "25          1              0.94  \n",
       "26          0              0.76  \n",
       "27          1              0.44  \n",
       "28          0              0.46  \n",
       "29          0              0.54  \n",
       "..        ...               ...  \n",
       "370         0              0.72  \n",
       "371         1              0.89  \n",
       "372         1              0.95  \n",
       "373         1              0.79  \n",
       "374         0              0.39  \n",
       "375         0              0.38  \n",
       "376         0              0.34  \n",
       "377         0              0.47  \n",
       "378         0              0.56  \n",
       "379         1              0.71  \n",
       "380         1              0.78  \n",
       "381         1              0.73  \n",
       "382         1              0.82  \n",
       "383         0              0.62  \n",
       "384         1              0.96  \n",
       "385         1              0.96  \n",
       "386         0              0.46  \n",
       "387         0              0.53  \n",
       "388         0              0.49  \n",
       "389         1              0.76  \n",
       "390         0              0.64  \n",
       "391         0              0.71  \n",
       "392         1              0.84  \n",
       "393         0              0.77  \n",
       "394         1              0.89  \n",
       "395         1              0.82  \n",
       "396         1              0.84  \n",
       "397         1              0.91  \n",
       "398         0              0.67  \n",
       "399         1              0.95  \n",
       "\n",
       "[400 rows x 9 columns]"
      ]
     },
     "execution_count": 427,
     "metadata": {},
     "output_type": "execute_result"
    }
   ],
   "source": [
    "dados = pd.read_csv('Admission_Predict.csv')\n",
    "dados"
   ]
  },
  {
   "cell_type": "markdown",
   "metadata": {},
   "source": [
    "Serial No.: Número de série do aluno\n",
    "\n",
    "GRE Scores: Nota do aluno no teste GRE\n",
    "\n",
    "TOEFL Scores: Nota do aluno no teste TOEFL\n",
    "\n",
    "University Rating: Classificação do nível de ensino da universidade desejada\n",
    "\n",
    "Statment of purpose (SOP): Qualidade do texto sobre o objeto de pesquisa do aluno\n",
    "\n",
    "Letter of recomendation (LOR): Qualidade da carta de recomendação do aluno\n",
    "\n",
    "Undergraduate Grade Point Average (CGPA): Média acadêmica do aluno\n",
    "\n",
    "Research: Experiência com pesquisa. 1- Sim, 2- Não\n",
    "\n",
    "Change of Admission: Probabilidade de admissão do aluno"
   ]
  },
  {
   "cell_type": "code",
   "execution_count": 428,
   "metadata": {
    "scrolled": true
   },
   "outputs": [],
   "source": [
    "dados = dados.drop(\"Serial No.\",axis=1)"
   ]
  },
  {
   "cell_type": "markdown",
   "metadata": {},
   "source": [
    "### ANÁLISE DESCRITIVA"
   ]
  },
  {
   "cell_type": "markdown",
   "metadata": {},
   "source": [
    "**Variáveis Quantitativas**"
   ]
  },
  {
   "cell_type": "code",
   "execution_count": 429,
   "metadata": {},
   "outputs": [
    {
     "data": {
      "image/png": "[encoded data removed]",
      "text/plain": [
       "<Figure size 1080x360 with 3 Axes>"
      ]
     },
     "metadata": {},
     "output_type": "display_data"
    }
   ],
   "source": [
    "fig = plt.figure(figsize=(15, 5))\n",
    "plt.subplot(131)\n",
    "plot = dados[\"GRE Score\"].plot.hist(bins=50,title='GRE Score', alpha=0.9)\n",
    "plt.ylabel('Frequência Absoluta')\n",
    "plt.xlabel('Nota do aluno')\n",
    "\n",
    "plt.subplot(132)\n",
    "plot = dados[\"TOEFL Score\"].plot.hist(bins=25,title='TOEFL Score', alpha=0.9)\n",
    "plt.ylabel('Frequência Absoluta')\n",
    "plt.xlabel('Nota do aluno')\n",
    "\n",
    "plt.subplot(133)\n",
    "plot = dados[\"CGPA\"].plot.hist(bins=50,title='CGPA', alpha=0.9)\n",
    "plt.ylabel('Frequência Absoluta')\n",
    "plt.xlabel('Média do aluno')\n",
    "\n",
    "plt.tight_layout()\n",
    "plt.show()"
   ]
  },
  {
   "cell_type": "code",
   "execution_count": 430,
   "metadata": {},
   "outputs": [
    {
     "data": {
      "text/plain": [
       "Text(0.5,0,'Nota do aluno')"
      ]
     },
     "execution_count": 430,
     "metadata": {},
     "output_type": "execute_result"
    },
    {
     "data": {
      "image/png": "[encoded data removed]",
      "text/plain": [
       "<Figure size 1080x360 with 2 Axes>"
      ]
     },
     "metadata": {},
     "output_type": "display_data"
    }
   ],
   "source": [
    "fig = plt.figure(figsize=(15, 5))\n",
    "plt.subplot(121)\n",
    "adQuantitativa2 = dados[\"LOR \"].value_counts()\n",
    "plot = adQuantitativa2.plot(kind='bar', legend=False,title=\"LOR\");\n",
    "plt.ylabel('Frequência Absoluta')\n",
    "plt.xlabel('Nota do aluno')\n",
    "\n",
    "plt.subplot(122)\n",
    "adQuantitativa3 = dados[\"SOP\"].value_counts()\n",
    "plot = adQuantitativa3.plot(kind='bar', legend=False,title=\"SOP\");\n",
    "plt.ylabel('Frequência Absoluta')\n",
    "plt.xlabel('Nota do aluno')"
   ]
  },
  {
   "cell_type": "markdown",
   "metadata": {},
   "source": [
    "**Variável Qualitativa**"
   ]
  },
  {
   "cell_type": "code",
   "execution_count": 431,
   "metadata": {},
   "outputs": [
    {
     "data": {
      "image/png": "[encoded data removed]",
      "text/plain": [
       "<Figure size 1080x360 with 2 Axes>"
      ]
     },
     "metadata": {},
     "output_type": "display_data"
    }
   ],
   "source": [
    "fig = plt.figure(figsize=(15, 5))\n",
    "plt.subplot(121)\n",
    "adQualitativa = dados['Research'].value_counts()\n",
    "adQualitativa.plot(kind='pie', autopct=\"%0.2f\",legend=False);\n",
    "\n",
    "plt.subplot(122)\n",
    "adQuantitativa = dados['University Rating'].value_counts()\n",
    "adQuantitativa.plot(kind='pie', autopct=\"%0.2f\",legend=False);"
   ]
  },
  {
   "cell_type": "code",
   "execution_count": 521,
   "metadata": {},
   "outputs": [
    {
     "data": {
      "image/png": "[encoded data removed]",
      "text/plain": [
       "<Figure size 432x288 with 1 Axes>"
      ]
     },
     "metadata": {},
     "output_type": "display_data"
    }
   ],
   "source": [
    "dados.boxplot(column=['Chance of Admit '], by='Research', grid=False);"
   ]
  },
  {
   "cell_type": "code",
   "execution_count": null,
   "metadata": {},
   "outputs": [],
   "source": []
  },
  {
   "cell_type": "markdown",
   "metadata": {},
   "source": [
    "Após a análise univariada vamos estudar como elas se correlacionam. Utilzaremos uma matriz de cores para entender a influência de cada uma delas."
   ]
  },
  {
   "cell_type": "code",
   "execution_count": 433,
   "metadata": {},
   "outputs": [
    {
     "data": {
      "image/png": "[encoded data removed]",
      "text/plain": [
       "<Figure size 864x864 with 2 Axes>"
      ]
     },
     "metadata": {},
     "output_type": "display_data"
    }
   ],
   "source": [
    "correl = dados.iloc[:,:7].corr()\n",
    "correl\n",
    "names = ['GRE Score','TOEFL Score','CGPA','SOP','LOR ','Research','Chance of Admit']\n",
    "d = len(names)\n",
    "\n",
    "fig = plt.figure(figsize=(12,12))\n",
    "ax = fig.add_subplot(111)\n",
    "cax = ax.matshow(correl, interpolation='none', vmin=-1, vmax=1 ,alpha=0.8)\n",
    "fig.colorbar(cax)\n",
    "ticks = np.arange(0,d,1)\n",
    "ax.set_xticks(ticks)\n",
    "ax.set_yticks(ticks)\n",
    "ax.set_xticklabels(names)\n",
    "ax.set_yticklabels(names)\n",
    "\n",
    "plt.show()"
   ]
  },
  {
   "cell_type": "markdown",
   "metadata": {},
   "source": [
    "___\n",
    "## C. MODELOS DE PREDIÇÃO"
   ]
  },
  {
   "cell_type": "code",
   "execution_count": 473,
   "metadata": {},
   "outputs": [],
   "source": [
    "trainingSet, testSet = train_test_split(dados, test_size = 0.25)"
   ]
  },
  {
   "cell_type": "code",
   "execution_count": 435,
   "metadata": {},
   "outputs": [],
   "source": [
    "X_treinamento = trainingSet[['GRE Score', 'TOEFL Score', 'University Rating', 'SOP', 'LOR ','CGPA', 'Research']]\n",
    "X_teste = testSet[['GRE Score', 'TOEFL Score', 'University Rating', 'SOP', 'LOR ','CGPA', 'Research']]\n",
    "\n",
    "Y_treinamento = trainingSet['Chance of Admit ']\n",
    "Y_teste = testSet['Chance of Admit ']\n",
    "X_treinamento_quali = trainingSet[['Research']]\n",
    "X_teste_quali = testSet[['Research']]"
   ]
  },
  {
   "cell_type": "markdown",
   "metadata": {
    "collapsed": true
   },
   "source": [
    "o MODELO DE PREDIÇÃO PELA MÉDIA (Sem uso de variável explicativa)."
   ]
  },
  {
   "cell_type": "code",
   "execution_count": 436,
   "metadata": {},
   "outputs": [],
   "source": [
    "mu = Y_treinamento.mean()\n",
    "mu2 = Y_teste.mean()"
   ]
  },
  {
   "cell_type": "code",
   "execution_count": 437,
   "metadata": {},
   "outputs": [
    {
     "data": {
      "text/plain": [
       "0.7268000000000003"
      ]
     },
     "execution_count": 437,
     "metadata": {},
     "output_type": "execute_result"
    }
   ],
   "source": [
    "mu\n"
   ]
  },
  {
   "cell_type": "markdown",
   "metadata": {
    "collapsed": true
   },
   "source": [
    "o MODELO DOS K VIZINHOS MAIS PRÓXIMOS (K-Nearest Neighbors Regression)"
   ]
  },
  {
   "cell_type": "code",
   "execution_count": 438,
   "metadata": {},
   "outputs": [],
   "source": [
    "X2=dados[['CGPA','TOEFL Score','GRE Score','University Rating','SOP','LOR ']]\n",
    "Y2=dados['Chance of Admit ']\n",
    "X_tre,X_tes,y_tre,y_tes = train_test_split(X2,Y2,test_size=.25,random_state=0)"
   ]
  },
  {
   "cell_type": "code",
   "execution_count": 439,
   "metadata": {},
   "outputs": [
    {
     "data": {
      "text/plain": [
       "<function matplotlib.pyplot.show(*args, **kw)>"
      ]
     },
     "execution_count": 439,
     "metadata": {},
     "output_type": "execute_result"
    },
    {
     "data": {
      "image/png": "[encoded data removed]",
      "text/plain": [
       "<Figure size 432x288 with 1 Axes>"
      ]
     },
     "metadata": {},
     "output_type": "display_data"
    }
   ],
   "source": [
    "lista_valorK=np.arange(1,10,1)\n",
    "lista_resultadoK=[]\n",
    "for e in lista_valorK:\n",
    "    clf=KNeighborsRegressor(e)\n",
    "    clf.fit(X_tre,y_tre)\n",
    "    y_pred=clf.predict(X_tes)\n",
    "    lista_resultadoK.append(mean_squared_error(y_tes,y_pred))\n",
    "    \n",
    "plt.plot(lista_valorK, lista_resultadoK)    \n",
    "plt.show"
   ]
  },
  {
   "cell_type": "code",
   "execution_count": 499,
   "metadata": {},
   "outputs": [
    {
     "name": "stdout",
     "output_type": "stream",
     "text": [
      "0.004328338541666666\n"
     ]
    }
   ],
   "source": [
    "clf=KNeighborsRegressor(8)\n",
    "clf.fit(X_tre,y_tre)\n",
    "y_pred_treinamento=clf.predict(X_tre)\n",
    "print(mean_squared_error(y_tre,y_pred_treinamento))"
   ]
  },
  {
   "cell_type": "code",
   "execution_count": 500,
   "metadata": {},
   "outputs": [
    {
     "name": "stdout",
     "output_type": "stream",
     "text": [
      "0.006486624999999999\n"
     ]
    }
   ],
   "source": [
    "y_pred_teste=clf.predict(X_tes)\n",
    "print(mean_squared_error(y_tes,y_pred_teste))"
   ]
  },
  {
   "cell_type": "markdown",
   "metadata": {
    "collapsed": true
   },
   "source": [
    "o MODELO DE REGRESSÃO LINEAR (Multiple Linear Regression)"
   ]
  },
  {
   "cell_type": "code",
   "execution_count": 501,
   "metadata": {},
   "outputs": [],
   "source": [
    "def regress(X,Y):\n",
    "    X_cp = sm.add_constant(X)\n",
    "    model = sm.OLS(Y,X_cp)\n",
    "    results = model.fit()\n",
    "    return results"
   ]
  },
  {
   "cell_type": "code",
   "execution_count": 443,
   "metadata": {},
   "outputs": [
    {
     "data": {
      "text/html": [
       "<table class=\"simpletable\">\n",
       "<caption>OLS Regression Results</caption>\n",
       "<tr>\n",
       "  <th>Dep. Variable:</th>    <td>Chance of Admit </td> <th>  R-squared:         </th> <td>   0.800</td>\n",
       "</tr>\n",
       "<tr>\n",
       "  <th>Model:</th>                   <td>OLS</td>       <th>  Adj. R-squared:    </th> <td>   0.795</td>\n",
       "</tr>\n",
       "<tr>\n",
       "  <th>Method:</th>             <td>Least Squares</td>  <th>  F-statistic:       </th> <td>   166.4</td>\n",
       "</tr>\n",
       "<tr>\n",
       "  <th>Date:</th>             <td>Tue, 28 May 2019</td> <th>  Prob (F-statistic):</th> <td>5.71e-98</td>\n",
       "</tr>\n",
       "<tr>\n",
       "  <th>Time:</th>                 <td>18:48:41</td>     <th>  Log-Likelihood:    </th> <td>  395.27</td>\n",
       "</tr>\n",
       "<tr>\n",
       "  <th>No. Observations:</th>      <td>   300</td>      <th>  AIC:               </th> <td>  -774.5</td>\n",
       "</tr>\n",
       "<tr>\n",
       "  <th>Df Residuals:</th>          <td>   292</td>      <th>  BIC:               </th> <td>  -744.9</td>\n",
       "</tr>\n",
       "<tr>\n",
       "  <th>Df Model:</th>              <td>     7</td>      <th>                     </th>     <td> </td>   \n",
       "</tr>\n",
       "<tr>\n",
       "  <th>Covariance Type:</th>      <td>nonrobust</td>    <th>                     </th>     <td> </td>   \n",
       "</tr>\n",
       "</table>\n",
       "<table class=\"simpletable\">\n",
       "<tr>\n",
       "          <td></td>             <th>coef</th>     <th>std err</th>      <th>t</th>      <th>P>|t|</th>  <th>[0.025</th>    <th>0.975]</th>  \n",
       "</tr>\n",
       "<tr>\n",
       "  <th>const</th>             <td>   -1.2445</td> <td>    0.149</td> <td>   -8.350</td> <td> 0.000</td> <td>   -1.538</td> <td>   -0.951</td>\n",
       "</tr>\n",
       "<tr>\n",
       "  <th>GRE Score</th>         <td>    0.0016</td> <td>    0.001</td> <td>    2.184</td> <td> 0.030</td> <td>    0.000</td> <td>    0.003</td>\n",
       "</tr>\n",
       "<tr>\n",
       "  <th>TOEFL Score</th>       <td>    0.0029</td> <td>    0.001</td> <td>    2.171</td> <td> 0.031</td> <td>    0.000</td> <td>    0.005</td>\n",
       "</tr>\n",
       "<tr>\n",
       "  <th>University Rating</th> <td>    0.0042</td> <td>    0.005</td> <td>    0.773</td> <td> 0.440</td> <td>   -0.007</td> <td>    0.015</td>\n",
       "</tr>\n",
       "<tr>\n",
       "  <th>SOP</th>               <td>   -0.0011</td> <td>    0.006</td> <td>   -0.169</td> <td> 0.866</td> <td>   -0.014</td> <td>    0.012</td>\n",
       "</tr>\n",
       "<tr>\n",
       "  <th>LOR </th>              <td>    0.0190</td> <td>    0.007</td> <td>    2.915</td> <td> 0.004</td> <td>    0.006</td> <td>    0.032</td>\n",
       "</tr>\n",
       "<tr>\n",
       "  <th>CGPA</th>              <td>    0.1237</td> <td>    0.015</td> <td>    8.381</td> <td> 0.000</td> <td>    0.095</td> <td>    0.153</td>\n",
       "</tr>\n",
       "<tr>\n",
       "  <th>Research</th>          <td>    0.0293</td> <td>    0.010</td> <td>    3.061</td> <td> 0.002</td> <td>    0.010</td> <td>    0.048</td>\n",
       "</tr>\n",
       "</table>\n",
       "<table class=\"simpletable\">\n",
       "<tr>\n",
       "  <th>Omnibus:</th>       <td>69.761</td> <th>  Durbin-Watson:     </th> <td>   1.985</td>\n",
       "</tr>\n",
       "<tr>\n",
       "  <th>Prob(Omnibus):</th> <td> 0.000</td> <th>  Jarque-Bera (JB):  </th> <td> 144.404</td>\n",
       "</tr>\n",
       "<tr>\n",
       "  <th>Skew:</th>          <td>-1.179</td> <th>  Prob(JB):          </th> <td>4.40e-32</td>\n",
       "</tr>\n",
       "<tr>\n",
       "  <th>Kurtosis:</th>      <td> 5.449</td> <th>  Cond. No.          </th> <td>1.32e+04</td>\n",
       "</tr>\n",
       "</table><br/><br/>Warnings:<br/>[1] Standard Errors assume that the covariance matrix of the errors is correctly specified.<br/>[2] The condition number is large, 1.32e+04. This might indicate that there are<br/>strong multicollinearity or other numerical problems."
      ],
      "text/plain": [
       "<class 'statsmodels.iolib.summary.Summary'>\n",
       "\"\"\"\n",
       "                            OLS Regression Results                            \n",
       "==============================================================================\n",
       "Dep. Variable:       Chance of Admit    R-squared:                       0.800\n",
       "Model:                            OLS   Adj. R-squared:                  0.795\n",
       "Method:                 Least Squares   F-statistic:                     166.4\n",
       "Date:                Tue, 28 May 2019   Prob (F-statistic):           5.71e-98\n",
       "Time:                        18:48:41   Log-Likelihood:                 395.27\n",
       "No. Observations:                 300   AIC:                            -774.5\n",
       "Df Residuals:                     292   BIC:                            -744.9\n",
       "Df Model:                           7                                         \n",
       "Covariance Type:            nonrobust                                         \n",
       "=====================================================================================\n",
       "                        coef    std err          t      P>|t|      [0.025      0.975]\n",
       "-------------------------------------------------------------------------------------\n",
       "const                -1.2445      0.149     -8.350      0.000      -1.538      -0.951\n",
       "GRE Score             0.0016      0.001      2.184      0.030       0.000       0.003\n",
       "TOEFL Score           0.0029      0.001      2.171      0.031       0.000       0.005\n",
       "University Rating     0.0042      0.005      0.773      0.440      -0.007       0.015\n",
       "SOP                  -0.0011      0.006     -0.169      0.866      -0.014       0.012\n",
       "LOR                   0.0190      0.007      2.915      0.004       0.006       0.032\n",
       "CGPA                  0.1237      0.015      8.381      0.000       0.095       0.153\n",
       "Research              0.0293      0.010      3.061      0.002       0.010       0.048\n",
       "==============================================================================\n",
       "Omnibus:                       69.761   Durbin-Watson:                   1.985\n",
       "Prob(Omnibus):                  0.000   Jarque-Bera (JB):              144.404\n",
       "Skew:                          -1.179   Prob(JB):                     4.40e-32\n",
       "Kurtosis:                       5.449   Cond. No.                     1.32e+04\n",
       "==============================================================================\n",
       "\n",
       "Warnings:\n",
       "[1] Standard Errors assume that the covariance matrix of the errors is correctly specified.\n",
       "[2] The condition number is large, 1.32e+04. This might indicate that there are\n",
       "strong multicollinearity or other numerical problems.\n",
       "\"\"\""
      ]
     },
     "execution_count": 443,
     "metadata": {},
     "output_type": "execute_result"
    }
   ],
   "source": [
    "results = regress(X_treinamento,Y_treinamento)\n",
    "results.summary()"
   ]
  },
  {
   "cell_type": "code",
   "execution_count": 444,
   "metadata": {},
   "outputs": [],
   "source": [
    "\n",
    "y_p_treinamento = results.predict(sm.add_constant(X_treinamento))\n",
    "y_p_teste = results.predict(sm.add_constant(X_teste))\n"
   ]
  },
  {
   "cell_type": "code",
   "execution_count": 445,
   "metadata": {},
   "outputs": [
    {
     "data": {
      "text/plain": [
       "(171    0.879392\n",
       " 45     0.833209\n",
       " 89     0.765494\n",
       " 339    0.775052\n",
       " 99     0.808841\n",
       " 319    0.777522\n",
       " 312    0.800440\n",
       " 388    0.517338\n",
       " 293    0.634750\n",
       " 101    0.623394\n",
       " 146    0.667993\n",
       " 326    0.561628\n",
       " 77     0.581378\n",
       " 313    0.584673\n",
       " 333    0.737649\n",
       " 160    0.568178\n",
       " 390    0.623888\n",
       " 349    0.607871\n",
       " 178    0.631407\n",
       " 304    0.647188\n",
       " 173    0.865858\n",
       " 43     0.836300\n",
       " 180    0.609370\n",
       " 127    0.742164\n",
       " 41     0.659508\n",
       " 63     0.708596\n",
       " 24     0.959594\n",
       " 332    0.653917\n",
       " 299    0.710955\n",
       " 301    0.722357\n",
       "          ...   \n",
       " 137    0.650839\n",
       " 261    0.638960\n",
       " 120    0.950000\n",
       " 259    0.908378\n",
       " 103    0.688645\n",
       " 4      0.632548\n",
       " 141    0.882672\n",
       " 81     0.954962\n",
       " 354    0.523644\n",
       " 9      0.712113\n",
       " 157    0.624076\n",
       " 11     0.838097\n",
       " 17     0.654537\n",
       " 294    0.653383\n",
       " 289    0.757371\n",
       " 292    0.554258\n",
       " 92     0.568122\n",
       " 50     0.689261\n",
       " 179    0.629013\n",
       " 5      0.871575\n",
       " 116    0.667881\n",
       " 1      0.805751\n",
       " 70     0.957949\n",
       " 243    0.816236\n",
       " 34     0.960040\n",
       " 74     0.767626\n",
       " 352    0.625493\n",
       " 35     0.861380\n",
       " 204    0.675033\n",
       " 263    0.747702\n",
       " Length: 300, dtype: float64, 151    0.907699\n",
       " 234    0.880598\n",
       " 274    0.579670\n",
       " 209    0.654352\n",
       " 251    0.721443\n",
       " 33     0.936453\n",
       " 238    0.662521\n",
       " 350    0.699791\n",
       " 118    0.485632\n",
       " 396    0.814892\n",
       " 128    0.819530\n",
       " 19     0.650496\n",
       " 208    0.619436\n",
       " 12     0.854931\n",
       " 123    0.650579\n",
       " 104    0.813346\n",
       " 201    0.712792\n",
       " 247    0.672951\n",
       " 6      0.711179\n",
       " 384    0.964588\n",
       " 62     0.649229\n",
       " 39     0.579894\n",
       " 220    0.718770\n",
       " 246    0.718427\n",
       " 300    0.597104\n",
       " 325    0.854947\n",
       " 260    0.829699\n",
       " 362    0.908818\n",
       " 348    0.459894\n",
       " 167    0.639728\n",
       "          ...   \n",
       " 278    0.665966\n",
       " 90     0.657824\n",
       " 197    0.638420\n",
       " 111    0.773670\n",
       " 394    0.859692\n",
       " 295    0.662681\n",
       " 296    0.706571\n",
       " 115    0.800919\n",
       " 134    0.882794\n",
       " 30     0.607531\n",
       " 154    0.762839\n",
       " 320    0.722670\n",
       " 129    0.923689\n",
       " 46     0.900730\n",
       " 367    0.508028\n",
       " 374    0.561122\n",
       " 87     0.655829\n",
       " 323    0.602041\n",
       " 357    0.612175\n",
       " 366    0.721522\n",
       " 55     0.582227\n",
       " 397    0.911784\n",
       " 205    0.520829\n",
       " 308    0.685823\n",
       " 307    0.828250\n",
       " 175    0.791239\n",
       " 302    0.709000\n",
       " 285    0.885709\n",
       " 47     0.931678\n",
       " 231    0.686390\n",
       " Length: 100, dtype: float64)"
      ]
     },
     "execution_count": 445,
     "metadata": {},
     "output_type": "execute_result"
    }
   ],
   "source": [
    "y_p_treinamento, y_p_teste"
   ]
  },
  {
   "cell_type": "markdown",
   "metadata": {
    "collapsed": true
   },
   "source": [
    "o MODELO DE ÁRVORES DE REGRESSÃO (Decision Tree Regression)"
   ]
  },
  {
   "cell_type": "code",
   "execution_count": 446,
   "metadata": {},
   "outputs": [
    {
     "data": {
      "image/png": "[encoded data removed]",
      "text/plain": [
       "<Figure size 432x288 with 1 Axes>"
      ]
     },
     "metadata": {},
     "output_type": "display_data"
    }
   ],
   "source": [
    "X3 = trainingSet[[\"Research\"]]\n",
    "Y3 = trainingSet[\"Chance of Admit \"]\n",
    "regressor = DecisionTreeRegressor(random_state = 1)\n",
    "regressor.fit(X3, Y3)\n",
    "plt.scatter(X3, Y3, color = 'green')\n",
    "plt.plot(X3, regressor.predict(X3), color = 'blue')\n",
    "plt.show()"
   ]
  },
  {
   "cell_type": "code",
   "execution_count": 447,
   "metadata": {},
   "outputs": [],
   "source": [
    "arvore_previsao = regressor.predict(X_treinamento_quali)\n",
    "arvore_previsao2 = regressor.predict(X_teste_quali)"
   ]
  },
  {
   "cell_type": "code",
   "execution_count": 448,
   "metadata": {},
   "outputs": [
    {
     "data": {
      "text/plain": [
       "(array([0.79939759, 0.79939759, 0.79939759, 0.79939759, 0.79939759,\n",
       "        0.79939759, 0.79939759, 0.63686567, 0.79939759, 0.63686567,\n",
       "        0.63686567, 0.63686567, 0.63686567, 0.63686567, 0.79939759,\n",
       "        0.63686567, 0.63686567, 0.63686567, 0.63686567, 0.63686567,\n",
       "        0.79939759, 0.63686567, 0.63686567, 0.79939759, 0.79939759,\n",
       "        0.79939759, 0.79939759, 0.79939759, 0.63686567, 0.63686567,\n",
       "        0.79939759, 0.79939759, 0.79939759, 0.79939759, 0.63686567,\n",
       "        0.79939759, 0.63686567, 0.79939759, 0.79939759, 0.79939759,\n",
       "        0.63686567, 0.63686567, 0.63686567, 0.63686567, 0.79939759,\n",
       "        0.63686567, 0.63686567, 0.63686567, 0.79939759, 0.63686567,\n",
       "        0.63686567, 0.79939759, 0.79939759, 0.79939759, 0.79939759,\n",
       "        0.63686567, 0.63686567, 0.79939759, 0.63686567, 0.63686567,\n",
       "        0.79939759, 0.79939759, 0.63686567, 0.63686567, 0.79939759,\n",
       "        0.79939759, 0.63686567, 0.63686567, 0.79939759, 0.79939759,\n",
       "        0.63686567, 0.79939759, 0.79939759, 0.79939759, 0.63686567,\n",
       "        0.63686567, 0.63686567, 0.79939759, 0.79939759, 0.79939759,\n",
       "        0.63686567, 0.63686567, 0.79939759, 0.79939759, 0.63686567,\n",
       "        0.79939759, 0.63686567, 0.63686567, 0.79939759, 0.79939759,\n",
       "        0.79939759, 0.79939759, 0.79939759, 0.79939759, 0.63686567,\n",
       "        0.63686567, 0.79939759, 0.63686567, 0.63686567, 0.79939759,\n",
       "        0.63686567, 0.79939759, 0.79939759, 0.63686567, 0.79939759,\n",
       "        0.79939759, 0.79939759, 0.63686567, 0.63686567, 0.63686567,\n",
       "        0.79939759, 0.79939759, 0.79939759, 0.63686567, 0.79939759,\n",
       "        0.79939759, 0.79939759, 0.79939759, 0.63686567, 0.63686567,\n",
       "        0.63686567, 0.63686567, 0.79939759, 0.63686567, 0.79939759,\n",
       "        0.79939759, 0.79939759, 0.79939759, 0.63686567, 0.79939759,\n",
       "        0.79939759, 0.79939759, 0.63686567, 0.79939759, 0.63686567,\n",
       "        0.79939759, 0.79939759, 0.79939759, 0.79939759, 0.79939759,\n",
       "        0.63686567, 0.79939759, 0.79939759, 0.63686567, 0.63686567,\n",
       "        0.63686567, 0.63686567, 0.63686567, 0.79939759, 0.79939759,\n",
       "        0.63686567, 0.79939759, 0.63686567, 0.63686567, 0.79939759,\n",
       "        0.79939759, 0.63686567, 0.79939759, 0.79939759, 0.79939759,\n",
       "        0.63686567, 0.63686567, 0.79939759, 0.79939759, 0.79939759,\n",
       "        0.63686567, 0.79939759, 0.79939759, 0.79939759, 0.79939759,\n",
       "        0.79939759, 0.63686567, 0.79939759, 0.79939759, 0.79939759,\n",
       "        0.63686567, 0.79939759, 0.79939759, 0.63686567, 0.79939759,\n",
       "        0.79939759, 0.79939759, 0.63686567, 0.79939759, 0.63686567,\n",
       "        0.63686567, 0.63686567, 0.79939759, 0.63686567, 0.79939759,\n",
       "        0.79939759, 0.79939759, 0.79939759, 0.63686567, 0.63686567,\n",
       "        0.63686567, 0.79939759, 0.63686567, 0.63686567, 0.63686567,\n",
       "        0.79939759, 0.79939759, 0.79939759, 0.79939759, 0.79939759,\n",
       "        0.63686567, 0.63686567, 0.79939759, 0.79939759, 0.79939759,\n",
       "        0.63686567, 0.63686567, 0.79939759, 0.63686567, 0.79939759,\n",
       "        0.63686567, 0.63686567, 0.63686567, 0.79939759, 0.63686567,\n",
       "        0.79939759, 0.79939759, 0.63686567, 0.79939759, 0.79939759,\n",
       "        0.63686567, 0.63686567, 0.79939759, 0.63686567, 0.79939759,\n",
       "        0.63686567, 0.63686567, 0.79939759, 0.79939759, 0.79939759,\n",
       "        0.63686567, 0.63686567, 0.63686567, 0.79939759, 0.63686567,\n",
       "        0.63686567, 0.63686567, 0.63686567, 0.63686567, 0.63686567,\n",
       "        0.79939759, 0.79939759, 0.63686567, 0.63686567, 0.79939759,\n",
       "        0.79939759, 0.63686567, 0.79939759, 0.63686567, 0.63686567,\n",
       "        0.79939759, 0.79939759, 0.79939759, 0.79939759, 0.63686567,\n",
       "        0.79939759, 0.63686567, 0.63686567, 0.79939759, 0.79939759,\n",
       "        0.79939759, 0.63686567, 0.79939759, 0.79939759, 0.79939759,\n",
       "        0.79939759, 0.63686567, 0.79939759, 0.79939759, 0.63686567,\n",
       "        0.63686567, 0.79939759, 0.79939759, 0.63686567, 0.63686567,\n",
       "        0.63686567, 0.79939759, 0.79939759, 0.79939759, 0.63686567,\n",
       "        0.63686567, 0.63686567, 0.79939759, 0.63686567, 0.79939759,\n",
       "        0.63686567, 0.79939759, 0.79939759, 0.79939759, 0.79939759,\n",
       "        0.63686567, 0.79939759, 0.79939759, 0.63686567, 0.79939759]),\n",
       " array([0.79939759, 0.79939759, 0.63686567, 0.79939759, 0.63686567,\n",
       "        0.79939759, 0.63686567, 0.79939759, 0.63686567, 0.79939759,\n",
       "        0.79939759, 0.63686567, 0.63686567, 0.79939759, 0.63686567,\n",
       "        0.79939759, 0.79939759, 0.63686567, 0.79939759, 0.79939759,\n",
       "        0.79939759, 0.63686567, 0.63686567, 0.63686567, 0.63686567,\n",
       "        0.79939759, 0.79939759, 0.79939759, 0.63686567, 0.63686567,\n",
       "        0.63686567, 0.63686567, 0.63686567, 0.63686567, 0.79939759,\n",
       "        0.79939759, 0.79939759, 0.63686567, 0.63686567, 0.63686567,\n",
       "        0.79939759, 0.79939759, 0.63686567, 0.63686567, 0.79939759,\n",
       "        0.79939759, 0.63686567, 0.79939759, 0.79939759, 0.79939759,\n",
       "        0.63686567, 0.79939759, 0.63686567, 0.79939759, 0.63686567,\n",
       "        0.63686567, 0.79939759, 0.63686567, 0.63686567, 0.63686567,\n",
       "        0.79939759, 0.63686567, 0.79939759, 0.63686567, 0.79939759,\n",
       "        0.79939759, 0.79939759, 0.79939759, 0.63686567, 0.79939759,\n",
       "        0.63686567, 0.79939759, 0.63686567, 0.79939759, 0.79939759,\n",
       "        0.63686567, 0.63686567, 0.79939759, 0.79939759, 0.79939759,\n",
       "        0.63686567, 0.79939759, 0.79939759, 0.79939759, 0.63686567,\n",
       "        0.63686567, 0.63686567, 0.63686567, 0.79939759, 0.79939759,\n",
       "        0.63686567, 0.79939759, 0.63686567, 0.63686567, 0.79939759,\n",
       "        0.79939759, 0.79939759, 0.79939759, 0.63686567, 0.79939759]))"
      ]
     },
     "execution_count": 448,
     "metadata": {},
     "output_type": "execute_result"
    }
   ],
   "source": [
    "arvore_previsao, arvore_previsao2"
   ]
  },
  {
   "cell_type": "markdown",
   "metadata": {
    "collapsed": true
   },
   "source": [
    "___\n",
    "## D. PROCESSO E ESTATÍSTICAS DE VALIDAÇÃO"
   ]
  },
  {
   "cell_type": "markdown",
   "metadata": {},
   "source": [
    "[Esse item depende dos resultados das modelagens anteriores! Organize-os aqui de forma clara!]"
   ]
  },
  {
   "cell_type": "markdown",
   "metadata": {},
   "source": [
    "MEDIA"
   ]
  },
  {
   "cell_type": "code",
   "execution_count": 449,
   "metadata": {},
   "outputs": [],
   "source": [
    "adm = (Y_treinamento - mu)**2\n",
    "   \n",
    "adm2 = (Y_teste - mu)**2\n",
    "\n"
   ]
  },
  {
   "cell_type": "code",
   "execution_count": 450,
   "metadata": {},
   "outputs": [],
   "source": [
    "x = adm.mean()\n",
    "y = adm2.mean()"
   ]
  },
  {
   "cell_type": "code",
   "execution_count": 451,
   "metadata": {},
   "outputs": [],
   "source": [
    "rmstreino = x**0.5\n",
    "rmsteste = y**0.5"
   ]
  },
  {
   "cell_type": "code",
   "execution_count": 452,
   "metadata": {},
   "outputs": [
    {
     "data": {
      "text/plain": [
       "(0.14472419746999224, 0.13540694221493962)"
      ]
     },
     "execution_count": 452,
     "metadata": {},
     "output_type": "execute_result"
    }
   ],
   "source": [
    "rmstreino, rmsteste\n"
   ]
  },
  {
   "cell_type": "markdown",
   "metadata": {},
   "source": [
    "KNN PROXIMOS"
   ]
  },
  {
   "cell_type": "code",
   "execution_count": 502,
   "metadata": {},
   "outputs": [],
   "source": [
    "knn = (Y_treinamento - y_pred_treinamento)**2\n",
    "knn2 = (Y_teste - y_pred_teste)**2"
   ]
  },
  {
   "cell_type": "code",
   "execution_count": 504,
   "metadata": {},
   "outputs": [],
   "source": [
    "knn_media = knn.mean()\n",
    "knn2_media = knn2.mean()"
   ]
  },
  {
   "cell_type": "code",
   "execution_count": 505,
   "metadata": {},
   "outputs": [],
   "source": [
    "rmsknn = knn_media**0.5\n",
    "rmsknn2 = knn2_media**0.5"
   ]
  },
  {
   "cell_type": "code",
   "execution_count": 506,
   "metadata": {},
   "outputs": [
    {
     "data": {
      "text/plain": [
       "(0.19642493530184338, 0.18150654258180338)"
      ]
     },
     "execution_count": 506,
     "metadata": {},
     "output_type": "execute_result"
    }
   ],
   "source": [
    "rmsknn, rmsknn2"
   ]
  },
  {
   "cell_type": "code",
   "execution_count": 513,
   "metadata": {},
   "outputs": [],
   "source": [
    "knn_media = (Y_treinamento - mu)**2\n",
    "knn_media2 = (Y_teste - mu2)**2"
   ]
  },
  {
   "cell_type": "code",
   "execution_count": 516,
   "metadata": {},
   "outputs": [],
   "source": [
    "r2knn = 1 - (knn.sum()/knn_media.sum())\n",
    "r2knn2 = 1 - (knn2.sum()/knn_media2.sum())"
   ]
  },
  {
   "cell_type": "code",
   "execution_count": 517,
   "metadata": {},
   "outputs": [
    {
     "data": {
      "text/plain": [
       "(-0.8420903929289405, -0.8062736443883989)"
      ]
     },
     "execution_count": 517,
     "metadata": {},
     "output_type": "execute_result"
    }
   ],
   "source": [
    "r2knn, r2knn2"
   ]
  },
  {
   "cell_type": "markdown",
   "metadata": {},
   "source": [
    "REGRESSAO LINEAR"
   ]
  },
  {
   "cell_type": "code",
   "execution_count": 460,
   "metadata": {},
   "outputs": [],
   "source": [
    "reg = (Y_treinamento - y_p_treinamento)**2\n",
    "\n",
    "reg2 = (Y_teste - y_p_teste)**2"
   ]
  },
  {
   "cell_type": "code",
   "execution_count": 461,
   "metadata": {},
   "outputs": [],
   "source": [
    "x2 = reg.mean()\n",
    "y2 = reg2.mean()"
   ]
  },
  {
   "cell_type": "code",
   "execution_count": 462,
   "metadata": {},
   "outputs": [],
   "source": [
    "rmstreino2 = x2**0.5\n",
    "rmsteste2 = y2**0.5"
   ]
  },
  {
   "cell_type": "code",
   "execution_count": 463,
   "metadata": {},
   "outputs": [
    {
     "data": {
      "text/plain": [
       "(0.06479683253352947, 0.05827435866343301)"
      ]
     },
     "execution_count": 463,
     "metadata": {},
     "output_type": "execute_result"
    }
   ],
   "source": [
    "rmstreino2, rmsteste2"
   ]
  },
  {
   "cell_type": "code",
   "execution_count": 464,
   "metadata": {},
   "outputs": [],
   "source": [
    "reg_X = (Y_treinamento - mu)**2\n",
    "reg_Y = (Y_teste - mu2)**2"
   ]
  },
  {
   "cell_type": "code",
   "execution_count": 465,
   "metadata": {},
   "outputs": [],
   "source": [
    "r2reg = 1 - (reg.sum()/reg_X.sum())\n",
    "r2reg2 = 1 - (reg2.sum()/reg_Y.sum())"
   ]
  },
  {
   "cell_type": "code",
   "execution_count": 466,
   "metadata": {},
   "outputs": [
    {
     "data": {
      "text/plain": [
       "(0.7995411412325244, 0.8138110160845207)"
      ]
     },
     "execution_count": 466,
     "metadata": {},
     "output_type": "execute_result"
    }
   ],
   "source": [
    "r2reg, r2reg2"
   ]
  },
  {
   "cell_type": "markdown",
   "metadata": {},
   "source": [
    "ARVORE DECISAO"
   ]
  },
  {
   "cell_type": "code",
   "execution_count": 467,
   "metadata": {},
   "outputs": [
    {
     "data": {
      "text/plain": [
       "0.12006697216034191"
      ]
     },
     "execution_count": 467,
     "metadata": {},
     "output_type": "execute_result"
    }
   ],
   "source": [
    "tree01=(Y_treinamento-arvore_previsao)**2\n",
    "tree012=tree01.mean()\n",
    "tree012=tree012**0.5\n",
    "tree012"
   ]
  },
  {
   "cell_type": "code",
   "execution_count": 468,
   "metadata": {},
   "outputs": [
    {
     "data": {
      "text/plain": [
       "0.11441770855923862"
      ]
     },
     "execution_count": 468,
     "metadata": {},
     "output_type": "execute_result"
    }
   ],
   "source": [
    "tree02=(Y_teste-arvore_previsao2)**2\n",
    "tree022=tree02.mean()\n",
    "tree022=tree022**0.5\n",
    "tree022"
   ]
  },
  {
   "cell_type": "code",
   "execution_count": 469,
   "metadata": {},
   "outputs": [],
   "source": [
    "tree01_media=(Y_treinamento-mu)**2\n",
    "tree02_media=(Y_teste-mu)**2"
   ]
  },
  {
   "cell_type": "code",
   "execution_count": 470,
   "metadata": {},
   "outputs": [
    {
     "data": {
      "text/plain": [
       "0.3117205268878096"
      ]
     },
     "execution_count": 470,
     "metadata": {},
     "output_type": "execute_result"
    }
   ],
   "source": [
    "R2_tree01=1-(tree01.sum()/tree01_media.sum())\n",
    "R2_tree01"
   ]
  },
  {
   "cell_type": "code",
   "execution_count": 471,
   "metadata": {},
   "outputs": [
    {
     "data": {
      "text/plain": [
       "0.2859894479670151"
      ]
     },
     "execution_count": 471,
     "metadata": {},
     "output_type": "execute_result"
    }
   ],
   "source": [
    "R2_tree02=1-(tree02.sum()/tree02_media.sum())\n",
    "R2_tree02"
   ]
  },
  {
   "cell_type": "code",
   "execution_count": null,
   "metadata": {},
   "outputs": [],
   "source": []
  },
  {
   "cell_type": "code",
   "execution_count": null,
   "metadata": {},
   "outputs": [],
   "source": []
  },
  {
   "cell_type": "markdown",
   "metadata": {},
   "source": [
    "___\n",
    "## E. CONCLUSÃO"
   ]
  },
  {
   "cell_type": "markdown",
   "metadata": {},
   "source": [
    "Baseando-se em nossos quatro modelos de predicao para prever qual a chance de um aluno (nos EUA), baseado em 7 variaveis, de ingressar em determinada universidade, podemos perceber clara diferenca de precisao entre a predicao pela media que possui uma valor de RMS alto, indicando que o modelo nao e tao preciso, ja os modelos de predicao pelo KNN proximo e pela arvore de decisao(DecisionTreeRegressor) sao superiores ao modelo de predicao pela media, porem nao chegam ao mesmo patamar de acerto da regressao linear que apresenta um RMS relativamente bem baixo em relacao aos demais."
   ]
  },
  {
   "cell_type": "markdown",
   "metadata": {},
   "source": [
    "___\n",
    "## F. REFERÊNCIAS BIBLIOGRÁFICAS"
   ]
  },
  {
   "cell_type": "markdown",
   "metadata": {},
   "source": [
    "https://ensinandomaquinasblog.wordpress.com/2017/12/15/modelos-preditivos-de-notas-de-redacao-do-enem-2015/"
   ]
  },
  {
   "cell_type": "markdown",
   "metadata": {},
   "source": [
    "https://www.kaggle.com/mohansacharya/graduate-admissions"
   ]
  }
 ],
 "metadata": {
  "anaconda-cloud": {},
  "kernelspec": {
   "display_name": "Python 3",
   "language": "python",
   "name": "python3"
  },
  "language_info": {
   "codemirror_mode": {
    "name": "ipython",
    "version": 3
   },
   "file_extension": ".py",
   "mimetype": "text/x-python",
   "name": "python",
   "nbconvert_exporter": "python",
   "pygments_lexer": "ipython3",
   "version": "3.6.5"
  }
 },
 "nbformat": 4,
 "nbformat_minor": 1
}
